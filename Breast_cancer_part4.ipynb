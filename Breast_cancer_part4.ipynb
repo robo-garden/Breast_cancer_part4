{
  "nbformat": 4,
  "nbformat_minor": 0,
  "metadata": {
    "colab": {
      "name": "Breast_cancer_part4.ipynb",
      "provenance": []
    },
    "kernelspec": {
      "name": "python3",
      "display_name": "Python 3"
    }
  },
  "cells": [
    {
      "cell_type": "code",
      "metadata": {
        "id": "naz4qKl_gFK6",
        "colab_type": "code",
        "colab": {
          "base_uri": "https://localhost:8080/",
          "height": 221
        },
        "outputId": "902e2698-1285-4801-f25f-833a3eae2618"
      },
      "source": [
        "!pip install kaggle\n",
        "!mkdir .kaggle"
      ],
      "execution_count": 3,
      "outputs": [
        {
          "output_type": "stream",
          "text": [
            "Requirement already satisfied: kaggle in /usr/local/lib/python3.6/dist-packages (1.5.6)\n",
            "Requirement already satisfied: requests in /usr/local/lib/python3.6/dist-packages (from kaggle) (2.23.0)\n",
            "Requirement already satisfied: tqdm in /usr/local/lib/python3.6/dist-packages (from kaggle) (4.41.1)\n",
            "Requirement already satisfied: python-dateutil in /usr/local/lib/python3.6/dist-packages (from kaggle) (2.8.1)\n",
            "Requirement already satisfied: six>=1.10 in /usr/local/lib/python3.6/dist-packages (from kaggle) (1.12.0)\n",
            "Requirement already satisfied: certifi in /usr/local/lib/python3.6/dist-packages (from kaggle) (2020.4.5.2)\n",
            "Requirement already satisfied: python-slugify in /usr/local/lib/python3.6/dist-packages (from kaggle) (4.0.0)\n",
            "Requirement already satisfied: urllib3<1.25,>=1.21.1 in /usr/local/lib/python3.6/dist-packages (from kaggle) (1.24.3)\n",
            "Requirement already satisfied: idna<3,>=2.5 in /usr/local/lib/python3.6/dist-packages (from requests->kaggle) (2.9)\n",
            "Requirement already satisfied: chardet<4,>=3.0.2 in /usr/local/lib/python3.6/dist-packages (from requests->kaggle) (3.0.4)\n",
            "Requirement already satisfied: text-unidecode>=1.3 in /usr/local/lib/python3.6/dist-packages (from python-slugify->kaggle) (1.3)\n",
            "mkdir: cannot create directory ‘.kaggle’: File exists\n"
          ],
          "name": "stdout"
        }
      ]
    },
    {
      "cell_type": "code",
      "metadata": {
        "id": "68CNlUY5gO5X",
        "colab_type": "code",
        "colab": {
          "base_uri": "https://localhost:8080/",
          "height": 442
        },
        "outputId": "8a01def5-58f5-4b98-c933-12ae3ca273f5"
      },
      "source": [
        "import json\n",
        "token = {\"username\":\"fatemehy\",\"key\":\"e6177841494493a99d3da8b61bab2fb1\"}\n",
        "with open('/content/.kaggle/kaggle.json', 'w') as file:\n",
        "    json.dump(token, file)\n",
        "!cp /content/.kaggle/kaggle.json ~/.kaggle/kaggle.json\n",
        "!kaggle config set -n path -v{/content}\n",
        "!chmod 600 /root/.kaggle/kaggle.json\n",
        "!kaggle datasets list"
      ],
      "execution_count": 5,
      "outputs": [
        {
          "output_type": "stream",
          "text": [
            "Warning: Your Kaggle API key is readable by other users on this system! To fix this, you can run 'chmod 600 /root/.kaggle/kaggle.json'\n",
            "- path is now set to: {/content}\n",
            "Warning: Looks like you're using an outdated API Version, please consider updating (server 1.5.6 / client 1.5.4)\n",
            "ref                                                             title                                                size  lastUpdated          downloadCount  \n",
            "--------------------------------------------------------------  --------------------------------------------------  -----  -------------------  -------------  \n",
            "allen-institute-for-ai/CORD-19-research-challenge               COVID-19 Open Research Dataset Challenge (CORD-19)    3GB  2020-06-10 00:09:23           3259  \n",
            "roche-data-science-coalition/uncover                            UNCOVER COVID-19 Challenge                          179MB  2020-05-21 18:57:53           3303  \n",
            "kwullum/fatal-police-shootings-in-the-us                        Fatal Police Shootings in the US                      1MB  2017-09-22 19:18:21          15572  \n",
            "Cornell-University/arxiv                                        ArXiv Metadata                                        2GB  2020-05-06 23:18:35             77  \n",
            "longnguyen2306/bacteria-detection-with-darkfield-microscopy     Bacteria detection with darkfield microscopy        162MB  2020-06-08 10:31:54            116  \n",
            "batjoker/zomato-restaurants-hyderabad                           Zomato Restaurants Hyderabad                          1MB  2020-06-08 15:11:39            729  \n",
            "thoolihan/los-angeles-1992-riot-deaths-from-la-times            Los Angeles 1992 Riot Deaths from LA Times           16KB  2020-06-03 21:09:07            237  \n",
            "andrewmvd/global-education-statistics                           Global Education Statistics                          38MB  2020-06-06 04:35:48            787  \n",
            "sudalairajkumar/daily-temperature-of-major-cities               Daily Temperature of Major Cities                    13MB  2020-06-05 07:34:48           1680  \n",
            "cprete/covid19-open-datasets-for-brazil                         COVID-19 Open Datasets for Brazil                   139MB  2020-06-07 15:36:31            305  \n",
            "mohitkr05/global-significant-earthquake-database-from-2150bc    Global Significant Earthquake Database from 2150BC  216KB  2020-06-08 09:41:18            367  \n",
            "yash612/stockmarket-sentiment-dataset                           Stock-Market Sentiment Dataset                      201KB  2020-06-05 19:16:19            642  \n",
            "jpmiller/police-violence-in-the-us                              US Police Violence & Fatal Shootings                 19MB  2020-06-16 14:19:33            204  \n",
            "imdevskp/hiv-aids-dataset                                       HIV AIDS Dataset                                     37KB  2020-06-11 12:59:45            407  \n",
            "paultimothymooney/minneapolis-police-stops-and-police-violence  Minneapolis Police Stops and Police Violence          8MB  2020-06-17 20:54:56             17  \n",
            "benroshan/factors-affecting-campus-placement                    Campus Recruitment                                    5KB  2020-04-11 11:09:02           8207  \n",
            "bobbyscience/league-of-legends-diamond-ranked-games-10-min      League of Legends Diamond Ranked Games (10 min)     539KB  2020-04-13 13:53:02           3495  \n",
            "fireballbyedimyrnmom/us-counties-covid-19-dataset               US counties COVID 19 dataset                          2MB  2020-06-18 12:11:56             21  \n",
            "divyansh22/flight-delay-prediction                              January Flight Delay Prediction                      23MB  2020-04-14 13:15:41           2746  \n",
            "clmentbisaillon/fake-and-real-news-dataset                      Fake and real news dataset                           41MB  2020-03-26 18:51:15           7114  \n"
          ],
          "name": "stdout"
        }
      ]
    },
    {
      "cell_type": "code",
      "metadata": {
        "id": "czGdzHqtgSFT",
        "colab_type": "code",
        "colab": {
          "base_uri": "https://localhost:8080/",
          "height": 493
        },
        "outputId": "ff453df5-080d-4a91-8445-28b184978125"
      },
      "source": [
        "!kaggle datasets list -s insurance\n",
        "!kaggle datasets download -d mirichoi0218/insurance     -p /content\n",
        "!unzip \\*.zip"
      ],
      "execution_count": 6,
      "outputs": [
        {
          "output_type": "stream",
          "text": [
            "Warning: Looks like you're using an outdated API Version, please consider updating (server 1.5.6 / client 1.5.4)\n",
            "ref                                                 title                                       size  lastUpdated          downloadCount  \n",
            "--------------------------------------------------  -----------------------------------------  -----  -------------------  -------------  \n",
            "hhs/health-insurance-marketplace                    Health Insurance Marketplace               829MB  2017-05-01 20:16:50           8584  \n",
            "hhs/health-insurance                                Health Insurance Coverage                    3KB  2017-03-02 18:40:23           4165  \n",
            "uciml/caravan-insurance-challenge                   Caravan Insurance Challenge                266KB  2016-11-28 03:02:55           5166  \n",
            "moneystore/agencyperformance                        Insurance Data                               5MB  2016-12-02 12:13:42           3867  \n",
            "mhdzahier/travel-insurance                          Travel Insurance                           463KB  2019-01-28 01:43:39           2494  \n",
            "mirichoi0218/insurance                               Medical Cost Personal Datasets             16KB  2018-02-21 00:15:14          39028  \n",
            "kondla/carinsurance                                 Car Insurance Cold Calls                   531KB  2017-06-16 07:05:47           4964  \n",
            "omartronco/health-insurance-data                    Health insurance data                       10KB  2019-04-09 04:57:42           1014  \n",
            "noordeen/insurance-premium-prediction               Insurance Premium Prediction                13KB  2019-06-16 03:28:07           1875  \n",
            "ycanario/home-insurance                             Home Insurance                               7MB  2017-11-14 23:10:34           1808  \n",
            "rodrigodomingos/brazilian-insurance-motor-market    Brazilian Motor Insurance Market           366KB  2017-01-11 09:16:34            670  \n",
            "kushshah95/the-insurance-company-tic-benchmark      The Insurance Company (TIC) Benchmark      262KB  2020-05-27 16:36:41            431  \n",
            "easonlai/sample-insurance-claim-prediction-dataset  Sample Insurance Claim Prediction Dataset   33KB  2018-06-04 01:43:42           3357  \n",
            "sonujha090/insurance-prediction                     Insurance prediction                         4KB  2018-10-14 05:40:27            928  \n",
            "toramky/automobile-dataset                          Automobile Dataset                           5KB  2017-05-24 04:45:13          13472  \n",
            "annetxu/health-insurance-cost-prediction            Health Insurance Cost Prediction            16KB  2018-03-11 06:40:41           1485  \n",
            "teertha/ushealthinsurancedataset                    US Health Insurance Dataset                 16KB  2020-02-16 04:43:53            423  \n",
            "roshansharma/insurance-claim                        Insurance Claim                             67KB  2019-07-03 07:02:37            615  \n",
            "raghupalem/insurance                                Insurance                                   16KB  2018-04-12 12:01:27            314  \n",
            "sachgupta/sample-insurance-portfolio                Sample Insurance Portfolio                 844KB  2017-05-24 00:17:33            674  \n",
            "Downloading insurance.zip to /content\n",
            "  0% 0.00/16.0k [00:00<?, ?B/s]\n",
            "100% 16.0k/16.0k [00:00<00:00, 31.8MB/s]\n",
            "Archive:  insurance.zip\n",
            "  inflating: insurance.csv           \n"
          ],
          "name": "stdout"
        }
      ]
    },
    {
      "cell_type": "code",
      "metadata": {
        "id": "qB4UOSGAgVSv",
        "colab_type": "code",
        "colab": {
          "base_uri": "https://localhost:8080/",
          "height": 419
        },
        "outputId": "7b652107-5ac5-439c-da63-b22788207450"
      },
      "source": [
        "# Load data into Pandas Dataframe\n",
        "import pandas as pd\n",
        "df = pd.read_csv('insurance.csv')\n",
        "df"
      ],
      "execution_count": 8,
      "outputs": [
        {
          "output_type": "execute_result",
          "data": {
            "text/html": [
              "<div>\n",
              "<style scoped>\n",
              "    .dataframe tbody tr th:only-of-type {\n",
              "        vertical-align: middle;\n",
              "    }\n",
              "\n",
              "    .dataframe tbody tr th {\n",
              "        vertical-align: top;\n",
              "    }\n",
              "\n",
              "    .dataframe thead th {\n",
              "        text-align: right;\n",
              "    }\n",
              "</style>\n",
              "<table border=\"1\" class=\"dataframe\">\n",
              "  <thead>\n",
              "    <tr style=\"text-align: right;\">\n",
              "      <th></th>\n",
              "      <th>age</th>\n",
              "      <th>sex</th>\n",
              "      <th>bmi</th>\n",
              "      <th>children</th>\n",
              "      <th>smoker</th>\n",
              "      <th>region</th>\n",
              "      <th>charges</th>\n",
              "    </tr>\n",
              "  </thead>\n",
              "  <tbody>\n",
              "    <tr>\n",
              "      <th>0</th>\n",
              "      <td>19</td>\n",
              "      <td>female</td>\n",
              "      <td>27.900</td>\n",
              "      <td>0</td>\n",
              "      <td>yes</td>\n",
              "      <td>southwest</td>\n",
              "      <td>16884.92400</td>\n",
              "    </tr>\n",
              "    <tr>\n",
              "      <th>1</th>\n",
              "      <td>18</td>\n",
              "      <td>male</td>\n",
              "      <td>33.770</td>\n",
              "      <td>1</td>\n",
              "      <td>no</td>\n",
              "      <td>southeast</td>\n",
              "      <td>1725.55230</td>\n",
              "    </tr>\n",
              "    <tr>\n",
              "      <th>2</th>\n",
              "      <td>28</td>\n",
              "      <td>male</td>\n",
              "      <td>33.000</td>\n",
              "      <td>3</td>\n",
              "      <td>no</td>\n",
              "      <td>southeast</td>\n",
              "      <td>4449.46200</td>\n",
              "    </tr>\n",
              "    <tr>\n",
              "      <th>3</th>\n",
              "      <td>33</td>\n",
              "      <td>male</td>\n",
              "      <td>22.705</td>\n",
              "      <td>0</td>\n",
              "      <td>no</td>\n",
              "      <td>northwest</td>\n",
              "      <td>21984.47061</td>\n",
              "    </tr>\n",
              "    <tr>\n",
              "      <th>4</th>\n",
              "      <td>32</td>\n",
              "      <td>male</td>\n",
              "      <td>28.880</td>\n",
              "      <td>0</td>\n",
              "      <td>no</td>\n",
              "      <td>northwest</td>\n",
              "      <td>3866.85520</td>\n",
              "    </tr>\n",
              "    <tr>\n",
              "      <th>...</th>\n",
              "      <td>...</td>\n",
              "      <td>...</td>\n",
              "      <td>...</td>\n",
              "      <td>...</td>\n",
              "      <td>...</td>\n",
              "      <td>...</td>\n",
              "      <td>...</td>\n",
              "    </tr>\n",
              "    <tr>\n",
              "      <th>1333</th>\n",
              "      <td>50</td>\n",
              "      <td>male</td>\n",
              "      <td>30.970</td>\n",
              "      <td>3</td>\n",
              "      <td>no</td>\n",
              "      <td>northwest</td>\n",
              "      <td>10600.54830</td>\n",
              "    </tr>\n",
              "    <tr>\n",
              "      <th>1334</th>\n",
              "      <td>18</td>\n",
              "      <td>female</td>\n",
              "      <td>31.920</td>\n",
              "      <td>0</td>\n",
              "      <td>no</td>\n",
              "      <td>northeast</td>\n",
              "      <td>2205.98080</td>\n",
              "    </tr>\n",
              "    <tr>\n",
              "      <th>1335</th>\n",
              "      <td>18</td>\n",
              "      <td>female</td>\n",
              "      <td>36.850</td>\n",
              "      <td>0</td>\n",
              "      <td>no</td>\n",
              "      <td>southeast</td>\n",
              "      <td>1629.83350</td>\n",
              "    </tr>\n",
              "    <tr>\n",
              "      <th>1336</th>\n",
              "      <td>21</td>\n",
              "      <td>female</td>\n",
              "      <td>25.800</td>\n",
              "      <td>0</td>\n",
              "      <td>no</td>\n",
              "      <td>southwest</td>\n",
              "      <td>2007.94500</td>\n",
              "    </tr>\n",
              "    <tr>\n",
              "      <th>1337</th>\n",
              "      <td>61</td>\n",
              "      <td>female</td>\n",
              "      <td>29.070</td>\n",
              "      <td>0</td>\n",
              "      <td>yes</td>\n",
              "      <td>northwest</td>\n",
              "      <td>29141.36030</td>\n",
              "    </tr>\n",
              "  </tbody>\n",
              "</table>\n",
              "<p>1338 rows × 7 columns</p>\n",
              "</div>"
            ],
            "text/plain": [
              "      age     sex     bmi  children smoker     region      charges\n",
              "0      19  female  27.900         0    yes  southwest  16884.92400\n",
              "1      18    male  33.770         1     no  southeast   1725.55230\n",
              "2      28    male  33.000         3     no  southeast   4449.46200\n",
              "3      33    male  22.705         0     no  northwest  21984.47061\n",
              "4      32    male  28.880         0     no  northwest   3866.85520\n",
              "...   ...     ...     ...       ...    ...        ...          ...\n",
              "1333   50    male  30.970         3     no  northwest  10600.54830\n",
              "1334   18  female  31.920         0     no  northeast   2205.98080\n",
              "1335   18  female  36.850         0     no  southeast   1629.83350\n",
              "1336   21  female  25.800         0     no  southwest   2007.94500\n",
              "1337   61  female  29.070         0    yes  northwest  29141.36030\n",
              "\n",
              "[1338 rows x 7 columns]"
            ]
          },
          "metadata": {
            "tags": []
          },
          "execution_count": 8
        }
      ]
    },
    {
      "cell_type": "code",
      "metadata": {
        "id": "exwh1MCsgYoi",
        "colab_type": "code",
        "colab": {
          "base_uri": "https://localhost:8080/",
          "height": 153
        },
        "outputId": "f0d37051-9395-4180-f7ed-ac1e863622ad"
      },
      "source": [
        "#Does the dataset include any missing values? If so, delete the missing values entries\n",
        "df.isnull().sum(axis = 0)"
      ],
      "execution_count": 9,
      "outputs": [
        {
          "output_type": "execute_result",
          "data": {
            "text/plain": [
              "age         0\n",
              "sex         0\n",
              "bmi         0\n",
              "children    0\n",
              "smoker      0\n",
              "region      0\n",
              "charges     0\n",
              "dtype: int64"
            ]
          },
          "metadata": {
            "tags": []
          },
          "execution_count": 9
        }
      ]
    },
    {
      "cell_type": "code",
      "metadata": {
        "id": "BFkP3glfggVF",
        "colab_type": "code",
        "colab": {
          "base_uri": "https://localhost:8080/",
          "height": 419
        },
        "outputId": "143ebce7-a84f-4a83-dfea-38f27f1de081"
      },
      "source": [
        "#Preprocessing\n",
        "from sklearn.preprocessing import LabelEncoder\n",
        "encoder = LabelEncoder()\n",
        "encoder.fit(df['sex'])\n",
        "df['sex']= encoder.transform(df['sex'])\n",
        "\n",
        "encoder.fit(df['region'])\n",
        "df['region']= encoder.transform(df['region'])\n",
        "\n",
        "encoder.fit(df['smoker'])\n",
        "df['smoker']= encoder.transform(df['smoker'])\n",
        "# breast_cencer.drop('id',axis=1,inplace=True)\n",
        "# df.drop('Unnamed: 32',axis=1,inplace=True)\n",
        "# breast_cancer['diagnosis'] = breast_cancer['diagnosis'].map({'M':1,'B':0})\n",
        "# breast_cancer.head()\n",
        "\n",
        "df.dropna()"
      ],
      "execution_count": 10,
      "outputs": [
        {
          "output_type": "execute_result",
          "data": {
            "text/html": [
              "<div>\n",
              "<style scoped>\n",
              "    .dataframe tbody tr th:only-of-type {\n",
              "        vertical-align: middle;\n",
              "    }\n",
              "\n",
              "    .dataframe tbody tr th {\n",
              "        vertical-align: top;\n",
              "    }\n",
              "\n",
              "    .dataframe thead th {\n",
              "        text-align: right;\n",
              "    }\n",
              "</style>\n",
              "<table border=\"1\" class=\"dataframe\">\n",
              "  <thead>\n",
              "    <tr style=\"text-align: right;\">\n",
              "      <th></th>\n",
              "      <th>age</th>\n",
              "      <th>sex</th>\n",
              "      <th>bmi</th>\n",
              "      <th>children</th>\n",
              "      <th>smoker</th>\n",
              "      <th>region</th>\n",
              "      <th>charges</th>\n",
              "    </tr>\n",
              "  </thead>\n",
              "  <tbody>\n",
              "    <tr>\n",
              "      <th>0</th>\n",
              "      <td>19</td>\n",
              "      <td>0</td>\n",
              "      <td>27.900</td>\n",
              "      <td>0</td>\n",
              "      <td>1</td>\n",
              "      <td>3</td>\n",
              "      <td>16884.92400</td>\n",
              "    </tr>\n",
              "    <tr>\n",
              "      <th>1</th>\n",
              "      <td>18</td>\n",
              "      <td>1</td>\n",
              "      <td>33.770</td>\n",
              "      <td>1</td>\n",
              "      <td>0</td>\n",
              "      <td>2</td>\n",
              "      <td>1725.55230</td>\n",
              "    </tr>\n",
              "    <tr>\n",
              "      <th>2</th>\n",
              "      <td>28</td>\n",
              "      <td>1</td>\n",
              "      <td>33.000</td>\n",
              "      <td>3</td>\n",
              "      <td>0</td>\n",
              "      <td>2</td>\n",
              "      <td>4449.46200</td>\n",
              "    </tr>\n",
              "    <tr>\n",
              "      <th>3</th>\n",
              "      <td>33</td>\n",
              "      <td>1</td>\n",
              "      <td>22.705</td>\n",
              "      <td>0</td>\n",
              "      <td>0</td>\n",
              "      <td>1</td>\n",
              "      <td>21984.47061</td>\n",
              "    </tr>\n",
              "    <tr>\n",
              "      <th>4</th>\n",
              "      <td>32</td>\n",
              "      <td>1</td>\n",
              "      <td>28.880</td>\n",
              "      <td>0</td>\n",
              "      <td>0</td>\n",
              "      <td>1</td>\n",
              "      <td>3866.85520</td>\n",
              "    </tr>\n",
              "    <tr>\n",
              "      <th>...</th>\n",
              "      <td>...</td>\n",
              "      <td>...</td>\n",
              "      <td>...</td>\n",
              "      <td>...</td>\n",
              "      <td>...</td>\n",
              "      <td>...</td>\n",
              "      <td>...</td>\n",
              "    </tr>\n",
              "    <tr>\n",
              "      <th>1333</th>\n",
              "      <td>50</td>\n",
              "      <td>1</td>\n",
              "      <td>30.970</td>\n",
              "      <td>3</td>\n",
              "      <td>0</td>\n",
              "      <td>1</td>\n",
              "      <td>10600.54830</td>\n",
              "    </tr>\n",
              "    <tr>\n",
              "      <th>1334</th>\n",
              "      <td>18</td>\n",
              "      <td>0</td>\n",
              "      <td>31.920</td>\n",
              "      <td>0</td>\n",
              "      <td>0</td>\n",
              "      <td>0</td>\n",
              "      <td>2205.98080</td>\n",
              "    </tr>\n",
              "    <tr>\n",
              "      <th>1335</th>\n",
              "      <td>18</td>\n",
              "      <td>0</td>\n",
              "      <td>36.850</td>\n",
              "      <td>0</td>\n",
              "      <td>0</td>\n",
              "      <td>2</td>\n",
              "      <td>1629.83350</td>\n",
              "    </tr>\n",
              "    <tr>\n",
              "      <th>1336</th>\n",
              "      <td>21</td>\n",
              "      <td>0</td>\n",
              "      <td>25.800</td>\n",
              "      <td>0</td>\n",
              "      <td>0</td>\n",
              "      <td>3</td>\n",
              "      <td>2007.94500</td>\n",
              "    </tr>\n",
              "    <tr>\n",
              "      <th>1337</th>\n",
              "      <td>61</td>\n",
              "      <td>0</td>\n",
              "      <td>29.070</td>\n",
              "      <td>0</td>\n",
              "      <td>1</td>\n",
              "      <td>1</td>\n",
              "      <td>29141.36030</td>\n",
              "    </tr>\n",
              "  </tbody>\n",
              "</table>\n",
              "<p>1338 rows × 7 columns</p>\n",
              "</div>"
            ],
            "text/plain": [
              "      age  sex     bmi  children  smoker  region      charges\n",
              "0      19    0  27.900         0       1       3  16884.92400\n",
              "1      18    1  33.770         1       0       2   1725.55230\n",
              "2      28    1  33.000         3       0       2   4449.46200\n",
              "3      33    1  22.705         0       0       1  21984.47061\n",
              "4      32    1  28.880         0       0       1   3866.85520\n",
              "...   ...  ...     ...       ...     ...     ...          ...\n",
              "1333   50    1  30.970         3       0       1  10600.54830\n",
              "1334   18    0  31.920         0       0       0   2205.98080\n",
              "1335   18    0  36.850         0       0       2   1629.83350\n",
              "1336   21    0  25.800         0       0       3   2007.94500\n",
              "1337   61    0  29.070         0       1       1  29141.36030\n",
              "\n",
              "[1338 rows x 7 columns]"
            ]
          },
          "metadata": {
            "tags": []
          },
          "execution_count": 10
        }
      ]
    },
    {
      "cell_type": "code",
      "metadata": {
        "id": "6NvcK4NsZz5y",
        "colab_type": "code",
        "colab": {
          "base_uri": "https://localhost:8080/",
          "height": 153
        },
        "outputId": "e47318ae-e505-49ad-a5ef-44147275e5b6"
      },
      "source": [
        "df.corr()['charges'].sort_values()"
      ],
      "execution_count": 11,
      "outputs": [
        {
          "output_type": "execute_result",
          "data": {
            "text/plain": [
              "region     -0.006208\n",
              "sex         0.057292\n",
              "children    0.067998\n",
              "bmi         0.198341\n",
              "age         0.299008\n",
              "smoker      0.787251\n",
              "charges     1.000000\n",
              "Name: charges, dtype: float64"
            ]
          },
          "metadata": {
            "tags": []
          },
          "execution_count": 11
        }
      ]
    },
    {
      "cell_type": "code",
      "metadata": {
        "id": "-vVjg2Zigqzv",
        "colab_type": "code",
        "colab": {
          "base_uri": "https://localhost:8080/",
          "height": 516
        },
        "outputId": "ce7db37d-6d80-42f5-e928-81c2dd4231a2"
      },
      "source": [
        "X=df\n",
        "from sklearn.preprocessing import OneHotEncoder\n",
        "encoded_X = OneHotEncoder().fit_transform(X).toarray()\n",
        "\n",
        "\n",
        "#trying Mean shift with different bandwidth\n",
        "from sklearn.cluster import MeanShift\n",
        "# clusters = MeanShift(bandwidth=0.5).fit_predict(encoded_X)\n",
        "ms = MeanShift(bandwidth=0.5, bin_seeding=True)\n",
        "clusters=ms.fit(X)\n",
        "labels = ms.labels_\n",
        "cluster_centers = ms.cluster_centers_\n",
        "\n",
        "labels_unique = np.unique(labels)\n",
        "n_clusters_ = len(labels_unique)\n",
        "print(\"number of estimated clusters : %d\" % n_clusters_)\n",
        "\n",
        "from sklearn.cluster import MeanShift\n",
        "# clusters = MeanShift(bandwidth=0.25).fit_predict(encoded_X)\n",
        "ms = MeanShift(bandwidth=0.25, bin_seeding=True)\n",
        "clusters=ms.fit(X)\n",
        "labels = ms.labels_\n",
        "cluster_centers = ms.cluster_centers_\n",
        "\n",
        "labels_unique = np.unique(labels)\n",
        "n_clusters_ = len(labels_unique)\n",
        "print(\"number of estimated clusters : %d\" % n_clusters_)\n",
        "\n",
        "from sklearn.cluster import MeanShift\n",
        "# clusters = MeanShift(bandwidth=1).fit_predict(encoded_X)\n",
        "ms = MeanShift(bandwidth=1, bin_seeding=True)\n",
        "clusters=ms.fit(X)\n",
        "labels = ms.labels_\n",
        "cluster_centers = ms.cluster_centers_\n",
        "\n",
        "labels_unique = np.unique(labels)\n",
        "n_clusters_ = len(labels_unique)\n",
        "\n",
        "print(\"number of estimated clusters : %d\" % n_clusters_)\n",
        "\n",
        "\n",
        "\n",
        "from sklearn.cluster import KMeans\n",
        "clusters2 = KMeans(n_clusters=4, tol=1e-5, random_state=0).fit_predict(encoded_X)\n",
        "\n",
        "print(clusters2[0:5])\n",
        "\n",
        "\n",
        "#drawing elbow curve for Kmeans algorithm\n",
        "\n",
        "from sklearn.cluster import KMeans\n",
        "from sklearn import metrics\n",
        "from scipy.spatial.distance import cdist\n",
        "import numpy as np\n",
        "import matplotlib.pyplot as plt\n",
        "\n",
        "\n",
        "from sklearn.cluster import KMeans\n",
        "from sklearn import metrics\n",
        "from scipy.spatial.distance import cdist\n",
        "import numpy as np\n",
        "import matplotlib.pyplot as plt\n",
        "# k means determine k\n",
        "distortions = []\n",
        "K = range(1,10)\n",
        "for k in K:\n",
        "    kmeanModel = KMeans(n_clusters=k).fit(X)\n",
        "    kmeanModel.fit(X)\n",
        "    distortions.append(sum(np.min(cdist(X, kmeanModel.cluster_centers_, 'euclidean'), axis=1)) / X.shape[0])\n",
        "    print('k: ',k,' inertia: ',kmeanModel.inertia_,' Distance: ',sum(np.min(cdist(X, kmeanModel.cluster_centers_, 'euclidean'), axis=1)) / X.shape[0])\n",
        "\n",
        "# Plot the elbow\n",
        "plt.plot(K, distortions, 'bx-')\n",
        "plt.xlabel('k')\n",
        "plt.ylabel('Distortion')\n",
        "plt.title('The Elbow Method showing the optimal k for KMeans')\n",
        "plt.show()\n",
        "\n"
      ],
      "execution_count": 21,
      "outputs": [
        {
          "output_type": "stream",
          "text": [
            "number of estimated clusters : 1323\n",
            "number of estimated clusters : 1329\n",
            "number of estimated clusters : 1306\n",
            "[0 3 3 3 3]\n",
            "k:  1  inertia:  196074539341.69006  Distance:  9091.212239518652\n",
            "k:  2  inertia:  48015233363.63154  Distance:  4813.177900787527\n",
            "k:  3  inertia:  22961315256.75049  Distance:  3416.271219969335\n",
            "k:  4  inertia:  12124877867.45977  Distance:  2276.350394708472\n",
            "k:  5  inertia:  8541856826.180521  Distance:  2014.2188049609165\n",
            "k:  6  inertia:  6167037715.890656  Distance:  1615.0662786097625\n",
            "k:  7  inertia:  4434721647.703516  Distance:  1391.2136198886371\n",
            "k:  8  inertia:  3488608307.8939214  Distance:  1341.0436489426795\n",
            "k:  9  inertia:  2779005965.02672  Distance:  1144.9634746175327\n"
          ],
          "name": "stdout"
        },
        {
          "output_type": "display_data",
          "data": {
            "image/png": "[encoded data removed]",
            "text/plain": [
              "<Figure size 432x288 with 1 Axes>"
            ]
          },
          "metadata": {
            "tags": [],
            "needs_background": "light"
          }
        }
      ]
    }
  ]
}